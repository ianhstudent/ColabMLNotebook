{
  "nbformat": 4,
  "nbformat_minor": 0,
  "metadata": {
    "colab": {
      "provenance": [],
      "authorship_tag": "ABX9TyOa6wHNcFdeFTCGWNePsHhz",
      "include_colab_link": true
    },
    "kernelspec": {
      "name": "python3",
      "display_name": "Python 3"
    },
    "language_info": {
      "name": "python"
    }
  },
  "cells": [
    {
      "cell_type": "markdown",
      "metadata": {
        "id": "view-in-github",
        "colab_type": "text"
      },
      "source": [
        "<a href=\"https://colab.research.google.com/github/ianhstudent/ColabMLNotebook/blob/JPRSubmission/Bootstrap_LogisticRegression_Predict.ipynb\" target=\"_parent\"><img src=\"https://colab.research.google.com/assets/colab-badge.svg\" alt=\"Open In Colab\"/></a>"
      ]
    },
    {
      "cell_type": "code",
      "execution_count": null,
      "metadata": {
        "id": "AJQdoTA__EuB"
      },
      "outputs": [],
      "source": [
        "import pandas as pd\n",
        "import numpy as np\n",
        "from sklearn.model_selection import train_test_split, cross_val_score, StratifiedKFold\n",
        "from sklearn.metrics import accuracy_score, roc_auc_score, roc_curve, auc, confusion_matrix\n",
        "from sklearn.preprocessing import LabelEncoder, StandardScaler\n",
        "from sklearn.impute import KNNImputer\n",
        "from sklearn.impute import SimpleImputer\n",
        "from sklearn.linear_model import Lasso\n",
        "from sklearn.linear_model import LogisticRegression\n",
        "from sklearn.datasets import make_classification"
      ]
    },
    {
      "cell_type": "code",
      "source": [
        "# Upload the data file with observations\n",
        "\n",
        "from google.colab import files\n",
        "fn = files.upload()\n"
      ],
      "metadata": {
        "id": "BCz53ah3_H4k",
        "colab": {
          "base_uri": "https://localhost:8080/",
          "height": 73
        },
        "outputId": "16fd8e6e-8bdb-4161-b54d-d94442af762c"
      },
      "execution_count": null,
      "outputs": [
        {
          "output_type": "display_data",
          "data": {
            "text/plain": [
              "<IPython.core.display.HTML object>"
            ],
            "text/html": [
              "\n",
              "     <input type=\"file\" id=\"files-916c2f4a-1b6b-47e6-b0eb-25ab81fd811d\" name=\"files[]\" multiple disabled\n",
              "        style=\"border:none\" />\n",
              "     <output id=\"result-916c2f4a-1b6b-47e6-b0eb-25ab81fd811d\">\n",
              "      Upload widget is only available when the cell has been executed in the\n",
              "      current browser session. Please rerun this cell to enable.\n",
              "      </output>\n",
              "      <script>// Copyright 2017 Google LLC\n",
              "//\n",
              "// Licensed under the Apache License, Version 2.0 (the \"License\");\n",
              "// you may not use this file except in compliance with the License.\n",
              "// You may obtain a copy of the License at\n",
              "//\n",
              "//      http://www.apache.org/licenses/LICENSE-2.0\n",
              "//\n",
              "// Unless required by applicable law or agreed to in writing, software\n",
              "// distributed under the License is distributed on an \"AS IS\" BASIS,\n",
              "// WITHOUT WARRANTIES OR CONDITIONS OF ANY KIND, either express or implied.\n",
              "// See the License for the specific language governing permissions and\n",
              "// limitations under the License.\n",
              "\n",
              "/**\n",
              " * @fileoverview Helpers for google.colab Python module.\n",
              " */\n",
              "(function(scope) {\n",
              "function span(text, styleAttributes = {}) {\n",
              "  const element = document.createElement('span');\n",
              "  element.textContent = text;\n",
              "  for (const key of Object.keys(styleAttributes)) {\n",
              "    element.style[key] = styleAttributes[key];\n",
              "  }\n",
              "  return element;\n",
              "}\n",
              "\n",
              "// Max number of bytes which will be uploaded at a time.\n",
              "const MAX_PAYLOAD_SIZE = 100 * 1024;\n",
              "\n",
              "function _uploadFiles(inputId, outputId) {\n",
              "  const steps = uploadFilesStep(inputId, outputId);\n",
              "  const outputElement = document.getElementById(outputId);\n",
              "  // Cache steps on the outputElement to make it available for the next call\n",
              "  // to uploadFilesContinue from Python.\n",
              "  outputElement.steps = steps;\n",
              "\n",
              "  return _uploadFilesContinue(outputId);\n",
              "}\n",
              "\n",
              "// This is roughly an async generator (not supported in the browser yet),\n",
              "// where there are multiple asynchronous steps and the Python side is going\n",
              "// to poll for completion of each step.\n",
              "// This uses a Promise to block the python side on completion of each step,\n",
              "// then passes the result of the previous step as the input to the next step.\n",
              "function _uploadFilesContinue(outputId) {\n",
              "  const outputElement = document.getElementById(outputId);\n",
              "  const steps = outputElement.steps;\n",
              "\n",
              "  const next = steps.next(outputElement.lastPromiseValue);\n",
              "  return Promise.resolve(next.value.promise).then((value) => {\n",
              "    // Cache the last promise value to make it available to the next\n",
              "    // step of the generator.\n",
              "    outputElement.lastPromiseValue = value;\n",
              "    return next.value.response;\n",
              "  });\n",
              "}\n",
              "\n",
              "/**\n",
              " * Generator function which is called between each async step of the upload\n",
              " * process.\n",
              " * @param {string} inputId Element ID of the input file picker element.\n",
              " * @param {string} outputId Element ID of the output display.\n",
              " * @return {!Iterable<!Object>} Iterable of next steps.\n",
              " */\n",
              "function* uploadFilesStep(inputId, outputId) {\n",
              "  const inputElement = document.getElementById(inputId);\n",
              "  inputElement.disabled = false;\n",
              "\n",
              "  const outputElement = document.getElementById(outputId);\n",
              "  outputElement.innerHTML = '';\n",
              "\n",
              "  const pickedPromise = new Promise((resolve) => {\n",
              "    inputElement.addEventListener('change', (e) => {\n",
              "      resolve(e.target.files);\n",
              "    });\n",
              "  });\n",
              "\n",
              "  const cancel = document.createElement('button');\n",
              "  inputElement.parentElement.appendChild(cancel);\n",
              "  cancel.textContent = 'Cancel upload';\n",
              "  const cancelPromise = new Promise((resolve) => {\n",
              "    cancel.onclick = () => {\n",
              "      resolve(null);\n",
              "    };\n",
              "  });\n",
              "\n",
              "  // Wait for the user to pick the files.\n",
              "  const files = yield {\n",
              "    promise: Promise.race([pickedPromise, cancelPromise]),\n",
              "    response: {\n",
              "      action: 'starting',\n",
              "    }\n",
              "  };\n",
              "\n",
              "  cancel.remove();\n",
              "\n",
              "  // Disable the input element since further picks are not allowed.\n",
              "  inputElement.disabled = true;\n",
              "\n",
              "  if (!files) {\n",
              "    return {\n",
              "      response: {\n",
              "        action: 'complete',\n",
              "      }\n",
              "    };\n",
              "  }\n",
              "\n",
              "  for (const file of files) {\n",
              "    const li = document.createElement('li');\n",
              "    li.append(span(file.name, {fontWeight: 'bold'}));\n",
              "    li.append(span(\n",
              "        `(${file.type || 'n/a'}) - ${file.size} bytes, ` +\n",
              "        `last modified: ${\n",
              "            file.lastModifiedDate ? file.lastModifiedDate.toLocaleDateString() :\n",
              "                                    'n/a'} - `));\n",
              "    const percent = span('0% done');\n",
              "    li.appendChild(percent);\n",
              "\n",
              "    outputElement.appendChild(li);\n",
              "\n",
              "    const fileDataPromise = new Promise((resolve) => {\n",
              "      const reader = new FileReader();\n",
              "      reader.onload = (e) => {\n",
              "        resolve(e.target.result);\n",
              "      };\n",
              "      reader.readAsArrayBuffer(file);\n",
              "    });\n",
              "    // Wait for the data to be ready.\n",
              "    let fileData = yield {\n",
              "      promise: fileDataPromise,\n",
              "      response: {\n",
              "        action: 'continue',\n",
              "      }\n",
              "    };\n",
              "\n",
              "    // Use a chunked sending to avoid message size limits. See b/62115660.\n",
              "    let position = 0;\n",
              "    do {\n",
              "      const length = Math.min(fileData.byteLength - position, MAX_PAYLOAD_SIZE);\n",
              "      const chunk = new Uint8Array(fileData, position, length);\n",
              "      position += length;\n",
              "\n",
              "      const base64 = btoa(String.fromCharCode.apply(null, chunk));\n",
              "      yield {\n",
              "        response: {\n",
              "          action: 'append',\n",
              "          file: file.name,\n",
              "          data: base64,\n",
              "        },\n",
              "      };\n",
              "\n",
              "      let percentDone = fileData.byteLength === 0 ?\n",
              "          100 :\n",
              "          Math.round((position / fileData.byteLength) * 100);\n",
              "      percent.textContent = `${percentDone}% done`;\n",
              "\n",
              "    } while (position < fileData.byteLength);\n",
              "  }\n",
              "\n",
              "  // All done.\n",
              "  yield {\n",
              "    response: {\n",
              "      action: 'complete',\n",
              "    }\n",
              "  };\n",
              "}\n",
              "\n",
              "scope.google = scope.google || {};\n",
              "scope.google.colab = scope.google.colab || {};\n",
              "scope.google.colab._files = {\n",
              "  _uploadFiles,\n",
              "  _uploadFilesContinue,\n",
              "};\n",
              "})(self);\n",
              "</script> "
            ]
          },
          "metadata": {}
        },
        {
          "output_type": "stream",
          "name": "stdout",
          "text": [
            "Saving Term&Preterm_AllSamples_20240404.csv to Term&Preterm_AllSamples_20240404.csv\n"
          ]
        }
      ]
    },
    {
      "cell_type": "code",
      "source": [
        "import io\n",
        "\n",
        "# Adjust to read the uploaded file (name should already be provided after the upload)\n",
        "data = pd.read_csv(io.BytesIO(fn['Term&Preterm_AllSamples_20240404.csv']))\n",
        "\n",
        "print(data)"
      ],
      "metadata": {
        "colab": {
          "base_uri": "https://localhost:8080/"
        },
        "id": "i9VCzRDvAAfO",
        "outputId": "0f119aa2-f55e-4b92-84a5-f68064d76efb"
      },
      "execution_count": null,
      "outputs": [
        {
          "output_type": "stream",
          "name": "stdout",
          "text": [
            "     Group       Thymine  4-Aminohippuric acid  5-Aminopentanamide  \\\n",
            "0        0  16148.476140           8415.820791         6905.938406   \n",
            "1        0  24901.941100           8256.863739        14832.413540   \n",
            "2        0   7641.399579           3974.474322         8179.276112   \n",
            "3        0  14861.731150           3597.318170         7409.747105   \n",
            "4        0  24297.212620           1230.643149          999.343056   \n",
            "..     ...           ...                   ...                 ...   \n",
            "145      1  12481.279420           6060.336998        11573.555520   \n",
            "146      1  10958.468430           4564.755171         2608.258373   \n",
            "147      1   9084.021333           1522.630155         1265.233521   \n",
            "148      1  29612.010220           3227.926086         1788.734921   \n",
            "149      1  12011.645970           1581.129616         1996.768786   \n",
            "\n",
            "     5-Hydroxyoctanoylcarnitine (C10:0-OH)  Acetylcarnitine  Acetylcholine  \\\n",
            "0                             542037.60150     18407.927030    66215.74512   \n",
            "1                             705404.28280     27834.145230    58401.76965   \n",
            "2                              30561.17816     52804.087550    48312.77590   \n",
            "3                             863578.38230      7649.033172   101500.29520   \n",
            "4                              14296.16236      1701.065731    37270.36321   \n",
            "..                                     ...              ...            ...   \n",
            "145                           815342.66660     28200.727530    54012.71349   \n",
            "146                            26163.29105      5875.281172    39996.83556   \n",
            "147                            13138.98875      4741.638345    29800.07352   \n",
            "148                            24484.54005      3943.895304    42505.22827   \n",
            "149                            54027.71243      1312.386079    48538.98738   \n",
            "\n",
            "     Acetyl-L-arginine       Alanine  Alanyltyrosine  ...  \\\n",
            "0         16202.994430  33052.176830    13420.349280  ...   \n",
            "1         21605.956060  22916.279460     5064.727289  ...   \n",
            "2         26034.689110   7439.501231     2653.290215  ...   \n",
            "3         15529.650540   5350.038734    11827.586530  ...   \n",
            "4          2931.774569   4427.125485      298.333223  ...   \n",
            "..                 ...           ...             ...  ...   \n",
            "145       20956.189150  28926.080800     3764.517464  ...   \n",
            "146       20949.995620   7185.206151             NaN  ...   \n",
            "147        8431.402795   6576.023125             NaN  ...   \n",
            "148        2261.503283   4162.587016     5595.255338  ...   \n",
            "149       13234.106390   4553.917075     6647.729675  ...   \n",
            "\n",
            "     Undeca-dienoylcarnitine (C11:2)  Undeca-trienoylcarnitine (C11:3)  \\\n",
            "0                       18242.845340                      26271.862660   \n",
            "1                       31004.758050                      20728.756490   \n",
            "2                       11961.051530                      15252.578310   \n",
            "3                       18373.553300                      16340.030060   \n",
            "4                                NaN                       4416.237243   \n",
            "..                               ...                               ...   \n",
            "145                     37039.686050                      22735.880310   \n",
            "146                      3441.315721                      15311.843360   \n",
            "147                       141.630928                       6927.516521   \n",
            "148                       978.966520                       2109.208960   \n",
            "149                       562.462460                       9594.909533   \n",
            "\n",
            "     Undec-enedioylcarnitine (C11:1-DC)  Undec-enoylcarnitine (C11:1)  \\\n",
            "0                          247661.10660                  13021.886150   \n",
            "1                          149612.43370                  16444.288630   \n",
            "2                           29249.37913                   7137.418662   \n",
            "3                          252433.72260                  13057.181600   \n",
            "4                           10093.93856                   1102.688918   \n",
            "..                                  ...                           ...   \n",
            "145                        241819.87620                  18919.703460   \n",
            "146                         46183.43687                   4911.517637   \n",
            "147                         18584.22221                   1537.618665   \n",
            "148                         26351.79680                    147.486265   \n",
            "149                         23711.58506                   2693.045980   \n",
            "\n",
            "       Uric acid  Valerylcarnitine (C5:0)  Valerylglycine        Valine  \\\n",
            "0    392009.3155             24264.697450     6876.007571  74242.665830   \n",
            "1    438410.0500             24281.791710   118387.708600  61763.637810   \n",
            "2    167476.5528             32741.754010    21131.543200  10492.370780   \n",
            "3    363671.9760             16382.512160     2590.146483  87590.286870   \n",
            "4    118783.2658              3872.178062     5345.865491  16392.649480   \n",
            "..           ...                      ...             ...           ...   \n",
            "145  466462.1773             36971.075290   130641.016300  68285.171950   \n",
            "146  151263.6883              9458.179304     4452.729273  15623.763970   \n",
            "147  194465.9623              5796.366187     7005.041237   1617.621789   \n",
            "148  132305.6275             12879.159740     1895.371198           NaN   \n",
            "149  165471.7767              8312.823022    70907.547310   8741.657457   \n",
            "\n",
            "     Valylleucine      Xanthine  \n",
            "0     92480.65676   3341.357092  \n",
            "1    172049.81850   4801.345297  \n",
            "2     67361.09688   2307.605963  \n",
            "3     49480.62562   8829.262691  \n",
            "4     12709.44826           NaN  \n",
            "..            ...           ...  \n",
            "145  123150.23410  10456.842510  \n",
            "146   17224.86806   3104.170901  \n",
            "147   22239.33213   1589.285027  \n",
            "148   36717.41043   2755.280394  \n",
            "149   20135.22187   3019.532363  \n",
            "\n",
            "[150 rows x 182 columns]\n"
          ]
        }
      ]
    },
    {
      "cell_type": "code",
      "source": [
        "# Check the number of features in the data file\n",
        "\n",
        "n_features = data.shape[1]\n",
        "print(n_features)"
      ],
      "metadata": {
        "colab": {
          "base_uri": "https://localhost:8080/"
        },
        "id": "wO8FWZBtz5Hi",
        "outputId": "4e0fc930-4406-4109-ddde-c328d957bd18"
      },
      "execution_count": null,
      "outputs": [
        {
          "output_type": "stream",
          "name": "stdout",
          "text": [
            "182\n"
          ]
        }
      ]
    },
    {
      "cell_type": "code",
      "source": [
        "X = data.drop(columns=['Group'])  # All columns except 'Group'\n",
        "y = data['Group']  # Replace with your target column\n",
        "\n",
        "print(X)"
      ],
      "metadata": {
        "colab": {
          "base_uri": "https://localhost:8080/"
        },
        "id": "02HkDY74n0y-",
        "outputId": "409bf579-d06f-42dd-dba8-8b579fd036f8"
      },
      "execution_count": null,
      "outputs": [
        {
          "output_type": "stream",
          "name": "stdout",
          "text": [
            "          Thymine  4-Aminohippuric acid  5-Aminopentanamide  \\\n",
            "0    16148.476140           8415.820791         6905.938406   \n",
            "1    24901.941100           8256.863739        14832.413540   \n",
            "2     7641.399579           3974.474322         8179.276112   \n",
            "3    14861.731150           3597.318170         7409.747105   \n",
            "4    24297.212620           1230.643149          999.343056   \n",
            "..            ...                   ...                 ...   \n",
            "145  12481.279420           6060.336998        11573.555520   \n",
            "146  10958.468430           4564.755171         2608.258373   \n",
            "147   9084.021333           1522.630155         1265.233521   \n",
            "148  29612.010220           3227.926086         1788.734921   \n",
            "149  12011.645970           1581.129616         1996.768786   \n",
            "\n",
            "     5-Hydroxyoctanoylcarnitine (C10:0-OH)  Acetylcarnitine  Acetylcholine  \\\n",
            "0                             542037.60150     18407.927030    66215.74512   \n",
            "1                             705404.28280     27834.145230    58401.76965   \n",
            "2                              30561.17816     52804.087550    48312.77590   \n",
            "3                             863578.38230      7649.033172   101500.29520   \n",
            "4                              14296.16236      1701.065731    37270.36321   \n",
            "..                                     ...              ...            ...   \n",
            "145                           815342.66660     28200.727530    54012.71349   \n",
            "146                            26163.29105      5875.281172    39996.83556   \n",
            "147                            13138.98875      4741.638345    29800.07352   \n",
            "148                            24484.54005      3943.895304    42505.22827   \n",
            "149                            54027.71243      1312.386079    48538.98738   \n",
            "\n",
            "     Acetyl-L-arginine       Alanine  Alanyltyrosine  \\\n",
            "0         16202.994430  33052.176830    13420.349280   \n",
            "1         21605.956060  22916.279460     5064.727289   \n",
            "2         26034.689110   7439.501231     2653.290215   \n",
            "3         15529.650540   5350.038734    11827.586530   \n",
            "4          2931.774569   4427.125485      298.333223   \n",
            "..                 ...           ...             ...   \n",
            "145       20956.189150  28926.080800     3764.517464   \n",
            "146       20949.995620   7185.206151             NaN   \n",
            "147        8431.402795   6576.023125             NaN   \n",
            "148        2261.503283   4162.587016     5595.255338   \n",
            "149       13234.106390   4553.917075     6647.729675   \n",
            "\n",
            "     alpha-Ketoisovaleric acid  ...  Undeca-dienoylcarnitine (C11:2)  \\\n",
            "0                  3188.207134  ...                     18242.845340   \n",
            "1                  3869.392381  ...                     31004.758050   \n",
            "2                  7468.913183  ...                     11961.051530   \n",
            "3                  3992.893802  ...                     18373.553300   \n",
            "4                  1694.602465  ...                              NaN   \n",
            "..                         ...  ...                              ...   \n",
            "145                5835.024734  ...                     37039.686050   \n",
            "146                4422.973831  ...                      3441.315721   \n",
            "147                2160.168002  ...                       141.630928   \n",
            "148                 583.525261  ...                       978.966520   \n",
            "149                3168.465199  ...                       562.462460   \n",
            "\n",
            "     Undeca-trienoylcarnitine (C11:3)  Undec-enedioylcarnitine (C11:1-DC)  \\\n",
            "0                        26271.862660                        247661.10660   \n",
            "1                        20728.756490                        149612.43370   \n",
            "2                        15252.578310                         29249.37913   \n",
            "3                        16340.030060                        252433.72260   \n",
            "4                         4416.237243                         10093.93856   \n",
            "..                                ...                                 ...   \n",
            "145                      22735.880310                        241819.87620   \n",
            "146                      15311.843360                         46183.43687   \n",
            "147                       6927.516521                         18584.22221   \n",
            "148                       2109.208960                         26351.79680   \n",
            "149                       9594.909533                         23711.58506   \n",
            "\n",
            "     Undec-enoylcarnitine (C11:1)    Uric acid  Valerylcarnitine (C5:0)  \\\n",
            "0                    13021.886150  392009.3155             24264.697450   \n",
            "1                    16444.288630  438410.0500             24281.791710   \n",
            "2                     7137.418662  167476.5528             32741.754010   \n",
            "3                    13057.181600  363671.9760             16382.512160   \n",
            "4                     1102.688918  118783.2658              3872.178062   \n",
            "..                            ...          ...                      ...   \n",
            "145                  18919.703460  466462.1773             36971.075290   \n",
            "146                   4911.517637  151263.6883              9458.179304   \n",
            "147                   1537.618665  194465.9623              5796.366187   \n",
            "148                    147.486265  132305.6275             12879.159740   \n",
            "149                   2693.045980  165471.7767              8312.823022   \n",
            "\n",
            "     Valerylglycine        Valine  Valylleucine      Xanthine  \n",
            "0       6876.007571  74242.665830   92480.65676   3341.357092  \n",
            "1     118387.708600  61763.637810  172049.81850   4801.345297  \n",
            "2      21131.543200  10492.370780   67361.09688   2307.605963  \n",
            "3       2590.146483  87590.286870   49480.62562   8829.262691  \n",
            "4       5345.865491  16392.649480   12709.44826           NaN  \n",
            "..              ...           ...           ...           ...  \n",
            "145   130641.016300  68285.171950  123150.23410  10456.842510  \n",
            "146     4452.729273  15623.763970   17224.86806   3104.170901  \n",
            "147     7005.041237   1617.621789   22239.33213   1589.285027  \n",
            "148     1895.371198           NaN   36717.41043   2755.280394  \n",
            "149    70907.547310   8741.657457   20135.22187   3019.532363  \n",
            "\n",
            "[150 rows x 181 columns]\n"
          ]
        }
      ]
    },
    {
      "cell_type": "code",
      "source": [
        "# Exclude features with over 50% missing values\n",
        "missing_threshold = 0.5  # 50% threshold\n",
        "X = X.loc[:, data.isna().mean() <= missing_threshold]\n",
        "\n",
        "n_features = X.shape[1]\n",
        "print(n_features)"
      ],
      "metadata": {
        "colab": {
          "base_uri": "https://localhost:8080/"
        },
        "id": "iVLGpq8q1j01",
        "outputId": "92c84116-bec6-43aa-a8bc-56689531da41"
      },
      "execution_count": null,
      "outputs": [
        {
          "output_type": "stream",
          "name": "stdout",
          "text": [
            "175\n"
          ]
        }
      ]
    },
    {
      "cell_type": "code",
      "source": [
        "# Handle missing values in the remaining features using KNN imputation\n",
        "\n",
        "imputer = KNNImputer(n_neighbors=5)  # You can adjust the number of neighbors as needed\n",
        "X_imputed = imputer.fit_transform(X)\n",
        "X = pd.DataFrame(X_imputed, columns=X.columns)\n"
      ],
      "metadata": {
        "id": "wevRKjAa1-Am"
      },
      "execution_count": null,
      "outputs": []
    },
    {
      "cell_type": "code",
      "source": [
        "# Perform z-score normalization via a stand scaler\n",
        "\n",
        "scaler = StandardScaler()\n",
        "\n",
        "X_scaled = scaler.fit_transform(X)\n",
        "\n",
        "print(X_scaled)"
      ],
      "metadata": {
        "colab": {
          "base_uri": "https://localhost:8080/"
        },
        "id": "gPQvHpRb3ONj",
        "outputId": "3865b094-e7e5-4a9c-d656-f47bb77e7d5f"
      },
      "execution_count": null,
      "outputs": [
        {
          "output_type": "stream",
          "name": "stdout",
          "text": [
            "[[ 0.28301548 -0.25640328 -0.25227175 ...  0.09403202  0.20351549\n",
            "  -0.90407469]\n",
            " [ 1.6269845  -0.27395635  1.40909904 ... -0.09750252  1.31165686\n",
            "  -0.54872333]\n",
            " [-1.02312414 -0.74684555  0.01461688 ... -0.8844403  -0.14631883\n",
            "  -1.15568279]\n",
            " ...\n",
            " [-0.80163026 -1.01759407 -1.4345504  ... -1.02065451 -0.77471925\n",
            "  -1.3305173 ]\n",
            " [ 2.35014808 -0.82928424 -1.32482572 ... -0.90865676 -0.57308639\n",
            "  -1.04672183]\n",
            " [-0.35213547 -1.01113418 -1.28122231 ... -0.91131114 -0.80402271\n",
            "  -0.98240467]]\n"
          ]
        }
      ]
    },
    {
      "cell_type": "markdown",
      "source": [
        "Here we are done with chekcking data for missing values and remove the ones with too many missing values. We also performed log transformation of the data. Next we check on the target file to decide the approach to analyze each target variable."
      ],
      "metadata": {
        "id": "omARQIO8CDNn"
      }
    },
    {
      "cell_type": "code",
      "source": [
        "# Split the data into training and testing sets\n",
        "X_train, X_test, y_train, y_test = train_test_split(X_scaled, y, test_size=0.2, random_state=42, stratify=y)\n"
      ],
      "metadata": {
        "id": "OUvakRNLnp0u"
      },
      "execution_count": null,
      "outputs": []
    },
    {
      "cell_type": "code",
      "source": [
        "# Set the number of bootstrap samples\n",
        "n_iterations = 100\n",
        "\n",
        "# Initialize lists to store sample fpr, tpr, and auc\n",
        "sample_fpr = []\n",
        "sample_tpr = []\n",
        "sample_auc = []\n",
        "mean_fpr = np.linspace(0, 1, 100)\n",
        "tprs = []\n",
        "\n",
        "# Initialize lists to store accuracy\n",
        "sample_accuracy = []\n",
        "\n",
        "# Convert 0 to False and 1 to True\n",
        "y_train_bool = np.array(y_train, dtype=bool)\n",
        "\n",
        "# Initialize arrays to store predicted probabilities\n",
        "train_probas = np.zeros((n_iterations, X_train.shape[0]))\n",
        "test_probas = np.zeros((n_iterations, X_test.shape[0]))\n",
        "\n",
        "# Initialize lists to store the confusion matrices\n",
        "confusion_matrices = []"
      ],
      "metadata": {
        "id": "1e8-2DDES4I9"
      },
      "execution_count": null,
      "outputs": []
    },
    {
      "cell_type": "code",
      "source": [
        "# Interpolate the mean FPR\n",
        "from scipy.interpolate import interp1d\n",
        "\n",
        "# Perform bootstrap iterations\n",
        "for i in range(n_iterations):\n",
        "    # Bootstrap sample\n",
        "    indices = np.random.choice(X_train.shape[0], size=X_train.shape[0], replace=True)\n",
        "    X_train_boot = X_train[indices]\n",
        "    y_train_boot = y_train_bool[indices]\n",
        "\n",
        "    # Train an XGBoost classifier on the bootstrap sample\n",
        "    alpha = 1.0  # You can adjust the regularization strength (alpha)\n",
        "    model = LogisticRegression(C=1/alpha, solver='liblinear', random_state=42)\n",
        "\n",
        "    # Perform k-fold cross-validation\n",
        "    cv = StratifiedKFold(n_splits=5, shuffle=True, random_state=42)\n",
        "    for train, test in cv.split(X_train_boot, y_train_boot):\n",
        "        X_train_fold, X_test_fold, y_train_fold, y_test_fold = X_train_boot[train], X_train_boot[test], y_train_boot[train], y_train_boot[test]\n",
        "\n",
        "        # Fit the model\n",
        "        model.fit(X_train_fold, y_train_fold)\n",
        "\n",
        "        # Make predictions\n",
        "        y_scores = model.predict_proba(X_test_fold)[:, 1]\n",
        "\n",
        "        # Calculate ROC curve\n",
        "        fpr, tpr, _ = roc_curve(y_test_fold, y_scores)\n",
        "        mean_tpr = np.interp(mean_fpr, fpr, tpr)\n",
        "        mean_tpr[0] = 0.0\n",
        "        tprs.append(mean_tpr)\n",
        "\n",
        "        # Calculate AUC\n",
        "        roc_auc = auc(mean_fpr, mean_tpr)\n",
        "        sample_auc.append(roc_auc)\n",
        "\n",
        "        # Calculate Accuracy\n",
        "        y_pred = np.round(y_scores).astype(int)\n",
        "        acc = accuracy_score(y_test_fold, y_pred)\n",
        "        sample_accuracy.append(acc)\n",
        "\n",
        "        # Calculate the confusion matrix for this iteration\n",
        "        cm = confusion_matrix(y_test_fold, y_pred, labels=[0, 1])\n",
        "        confusion_matrices.append(cm)\n",
        "\n",
        "    # Predict probabilities for the entire training and testing datasets\n",
        "    if i == 0:  # Initialize arrays on first iteration\n",
        "        train_probas = np.zeros((n_iterations, X_train.shape[0]))\n",
        "        test_probas = np.zeros((n_iterations, X_test.shape[0]))\n",
        "\n",
        "    train_probas[i] = model.predict_proba(X_train)[:, 1]\n",
        "    test_probas[i] = model.predict_proba(X_test)[:, 1]\n"
      ],
      "metadata": {
        "id": "-dPfMTOFS-YL"
      },
      "execution_count": null,
      "outputs": []
    },
    {
      "cell_type": "code",
      "source": [
        "# Compute mean and standard deviation of the ROC\n",
        "mean_tpr = np.mean(tprs, axis=0)\n",
        "std_tpr = np.std(tprs, axis=0)\n",
        "\n",
        "\n",
        "\n",
        "# Calculate the mean and standard deviation of the auc and accuracy\n",
        "mean_auc = np.mean(sample_auc)\n",
        "std_auc = np.std(sample_auc)\n",
        "mean_accuracy = np.mean(sample_accuracy)\n",
        "std_accuracy = np.std(sample_accuracy)\n",
        "\n",
        "# Calculate the confidence interval for AUC\n",
        "alpha = 0.95\n",
        "lower_auc = np.percentile(sample_auc, (1 - alpha) / 2 * 100)\n",
        "upper_auc = np.percentile(sample_auc, (alpha + (1 - alpha) / 2) * 100)\n",
        "\n",
        "lower_accuracy = np.percentile(sample_accuracy, (1 - alpha) / 2 * 100)\n",
        "upper_accuracy = np.percentile(sample_accuracy, (alpha + (1 - alpha) / 2) * 100)\n",
        "\n",
        "\n",
        "\n",
        "# Display the confidence interval for AUC and accuracy\n",
        "print(f\"Bootstrap Confidence Interval for AUC: {alpha*100}%\")\n",
        "print(f\"Lower bound AUC: {lower_auc:.3f}\")\n",
        "print(f\"Upper bound AUC: {upper_auc:.3f}\")\n",
        "print(f\"Bootstrap Confidence Interval for Accuracy: {alpha*100}%\")\n",
        "print(f\"Lower bound Accuracy: {lower_accuracy:.3f}\")\n",
        "print(f\"Upper bound Accuracy: {upper_accuracy:.3f}\")\n",
        "print(f\"Mean auc: {mean_auc:.3f}\")\n",
        "print(f\"Mean Accuracy: {mean_accuracy:.3f}\")\n",
        "print(f\"Standard Deviation of Accuracy: {std_accuracy:.3f}\")"
      ],
      "metadata": {
        "colab": {
          "base_uri": "https://localhost:8080/"
        },
        "id": "8ao-3eeCTG6c",
        "outputId": "7fd01962-2273-4953-f084-978dbf374fda"
      },
      "execution_count": null,
      "outputs": [
        {
          "output_type": "stream",
          "name": "stdout",
          "text": [
            "Bootstrap Confidence Interval for AUC: 95.0%\n",
            "Lower bound AUC: 0.590\n",
            "Upper bound AUC: 0.980\n",
            "Bootstrap Confidence Interval for Accuracy: 95.0%\n",
            "Lower bound Accuracy: 0.603\n",
            "Upper bound Accuracy: 0.958\n",
            "Mean auc: 0.808\n",
            "Mean Accuracy: 0.791\n",
            "Standard Deviation of Accuracy: 0.088\n"
          ]
        }
      ]
    },
    {
      "cell_type": "code",
      "source": [
        "import matplotlib.pyplot as plt\n",
        "\n",
        "# Plot the mean ROC curve\n",
        "plt.figure(figsize=(8, 6))\n",
        "plt.rcParams.update({'font.size': 16})\n",
        "\n",
        "plt.plot(mean_fpr, mean_tpr, color='darkorange', label=f'ROC curve (AUC = {mean_auc:.2f})')\n",
        "\n",
        "# Plot the confidence interval for the ROC curve using bootstrapped percentiles\n",
        "percentiles = np.percentile(tprs, [(1 - alpha) / 2 * 100, (alpha + (1 - alpha) / 2) * 100], axis=0)\n",
        "lower_tpr_percentile, upper_tpr_percentile = percentiles\n",
        "\n",
        "\n",
        "plt.plot([0, 1], [0, 1], color='navy', linestyle='--', lw=2)\n",
        "\n",
        "# Add labels and legend\n",
        "plt.xlabel('False Positive Rate')\n",
        "plt.ylabel('True Positive Rate')\n",
        "plt.title('Receiver Operating Characteristic')\n",
        "plt.legend(loc='lower right')\n",
        "\n",
        "# Show the plot\n",
        "plt.show()"
      ],
      "metadata": {
        "colab": {
          "base_uri": "https://localhost:8080/",
          "height": 582
        },
        "id": "IB6dhR8yHDKw",
        "outputId": "4aa1f0b2-9ca1-4a88-980c-12c558f8a5a8"
      },
      "execution_count": null,
      "outputs": [
        {
          "output_type": "display_data",
          "data": {
            "text/plain": [
              "<Figure size 800x600 with 1 Axes>"
            ],
            "image/png": "[encoded data removed]"
          },
          "metadata": {}
        }
      ]
    },
    {
      "cell_type": "code",
      "source": [
        "import seaborn as sns\n",
        "\n",
        "# Ensure all confusion matrices are 2x2 and pad if necessary\n",
        "def pad_confusion_matrix(cm, shape=(2, 2)):\n",
        "    padded_cm = np.zeros(shape, dtype=int)\n",
        "    for i in range(min(shape[0], cm.shape[0])):\n",
        "        for j in range(min(shape[1], cm.shape[1])):\n",
        "            padded_cm[i, j] = cm[i, j]\n",
        "    return padded_cm\n",
        "\n",
        "padded_confusion_matrices = [pad_confusion_matrix(cm) for cm in confusion_matrices]\n",
        "\n",
        "# Stack padded confusion matrices and calculate mean\n",
        "padded_confusion_matrices = np.stack(padded_confusion_matrices)\n",
        "average_cm = np.mean(padded_confusion_matrices, axis=0)\n",
        "\n",
        "\n",
        "plt.figure(figsize=(8, 6))\n",
        "\n",
        "plt.rcParams.update({'font.size': 16})  # Adjust font size as needed\n",
        "\n",
        "sns.heatmap(average_cm, annot=True, fmt='.1f', cmap='Blues', cbar=False,\n",
        "            xticklabels=[\"Preterm\", \"Term\"], yticklabels=[\"Preterm\", \"Term\"])\n",
        "plt.xlabel('Predicted')\n",
        "plt.ylabel('Observed')\n",
        "plt.title('Confusion Matrix')\n",
        "plt.savefig('ConfusionMatrix.tiff', format='tiff', dpi=300, bbox_inches='tight')\n",
        "plt.show()"
      ],
      "metadata": {
        "colab": {
          "base_uri": "https://localhost:8080/",
          "height": 582
        },
        "id": "hh-8vx__LaUN",
        "outputId": "8017e190-a9bb-4fe3-996e-2c36136446b6"
      },
      "execution_count": null,
      "outputs": [
        {
          "output_type": "display_data",
          "data": {
            "text/plain": [
              "<Figure size 800x600 with 1 Axes>"
            ],
            "image/png": "[encoded data removed]"
          },
          "metadata": {}
        }
      ]
    },
    {
      "cell_type": "code",
      "source": [
        "from sklearn.cluster import KMeans\n",
        "import seaborn as sns\n",
        "\n",
        "# Calculate average probabilities\n",
        "avg_train_proba = np.mean(train_probas, axis=0)\n",
        "avg_test_proba = np.mean(test_probas, axis=0)\n",
        "\n",
        "# Predict classes using the average probabilities\n",
        "y_train_pred_avg = np.round(avg_train_proba).astype(int)\n",
        "y_test_pred_avg = np.round(avg_test_proba).astype(int)\n",
        "\n",
        "# Create feature matrices including average predicted probabilities\n",
        "X_train_cluster_avg = np.column_stack((avg_train_proba, X_train))  # Add average predicted probabilities as the first feature\n",
        "X_test_cluster_avg = np.column_stack((avg_test_proba, X_test))\n",
        "\n",
        "# Extract coordinates of data points for each class\n",
        "train_class_0_points_avg = X_train_cluster_avg[y_train_pred_avg == 0]\n",
        "train_class_1_points_avg = X_train_cluster_avg[y_train_pred_avg == 1]\n",
        "test_class_0_points_avg = X_test_cluster_avg[y_test_pred_avg == 0]\n",
        "test_class_1_points_avg = X_test_cluster_avg[y_test_pred_avg == 1]\n",
        "\n",
        "# Plot data points\n",
        "\n",
        "plt.figure(figsize=(10, 6))\n",
        "\n",
        "plt.rcParams.update({'font.size': 16})  # Adjust font size as needed for all figures\n",
        "\n",
        "plt.scatter(train_class_0_points_avg[:, 0], train_class_0_points_avg[:, 1], color='blue', label='Train Preterm')\n",
        "plt.scatter(train_class_1_points_avg[:, 0], train_class_1_points_avg[:, 1], color='red', label='Train Term')\n",
        "plt.scatter(test_class_0_points_avg[:, 0], test_class_0_points_avg[:, 1], color='lightblue', marker='x', label='Test Preterm')\n",
        "plt.scatter(test_class_1_points_avg[:, 0], test_class_1_points_avg[:, 1], color='lightcoral', marker='x', label='Test Term')\n",
        "\n",
        "plt.xlabel('Feature 1')\n",
        "plt.ylabel('Feature 2')\n",
        "plt.title('Classification Distribution')\n",
        "plt.legend(loc='upper right', bbox_to_anchor=(1.35, 1))\n",
        "plt.show()"
      ],
      "metadata": {
        "id": "HffU9v0bwZgd",
        "outputId": "7268f2b2-f9c7-4466-afb6-1fd50eb0b74e",
        "colab": {
          "base_uri": "https://localhost:8080/",
          "height": 582
        }
      },
      "execution_count": null,
      "outputs": [
        {
          "output_type": "display_data",
          "data": {
            "text/plain": [
              "<Figure size 1000x600 with 1 Axes>"
            ],
            "image/png": "[encoded data removed]"
          },
          "metadata": {}
        }
      ]
    },
    {
      "cell_type": "code",
      "source": [
        "!pip install shap"
      ],
      "metadata": {
        "colab": {
          "base_uri": "https://localhost:8080/"
        },
        "id": "oButabKKHpff",
        "outputId": "4389a313-4efb-40a2-827e-b89da76f35c9"
      },
      "execution_count": null,
      "outputs": [
        {
          "output_type": "stream",
          "name": "stdout",
          "text": [
            "Collecting shap\n",
            "  Downloading shap-0.46.0-cp310-cp310-manylinux_2_12_x86_64.manylinux2010_x86_64.manylinux_2_17_x86_64.manylinux2014_x86_64.whl.metadata (24 kB)\n",
            "Requirement already satisfied: numpy in /usr/local/lib/python3.10/dist-packages (from shap) (1.26.4)\n",
            "Requirement already satisfied: scipy in /usr/local/lib/python3.10/dist-packages (from shap) (1.13.1)\n",
            "Requirement already satisfied: scikit-learn in /usr/local/lib/python3.10/dist-packages (from shap) (1.3.2)\n",
            "Requirement already satisfied: pandas in /usr/local/lib/python3.10/dist-packages (from shap) (2.1.4)\n",
            "Requirement already satisfied: tqdm>=4.27.0 in /usr/local/lib/python3.10/dist-packages (from shap) (4.66.5)\n",
            "Requirement already satisfied: packaging>20.9 in /usr/local/lib/python3.10/dist-packages (from shap) (24.1)\n",
            "Collecting slicer==0.0.8 (from shap)\n",
            "  Downloading slicer-0.0.8-py3-none-any.whl.metadata (4.0 kB)\n",
            "Requirement already satisfied: numba in /usr/local/lib/python3.10/dist-packages (from shap) (0.60.0)\n",
            "Requirement already satisfied: cloudpickle in /usr/local/lib/python3.10/dist-packages (from shap) (2.2.1)\n",
            "Requirement already satisfied: llvmlite<0.44,>=0.43.0dev0 in /usr/local/lib/python3.10/dist-packages (from numba->shap) (0.43.0)\n",
            "Requirement already satisfied: python-dateutil>=2.8.2 in /usr/local/lib/python3.10/dist-packages (from pandas->shap) (2.8.2)\n",
            "Requirement already satisfied: pytz>=2020.1 in /usr/local/lib/python3.10/dist-packages (from pandas->shap) (2024.1)\n",
            "Requirement already satisfied: tzdata>=2022.1 in /usr/local/lib/python3.10/dist-packages (from pandas->shap) (2024.1)\n",
            "Requirement already satisfied: joblib>=1.1.1 in /usr/local/lib/python3.10/dist-packages (from scikit-learn->shap) (1.4.2)\n",
            "Requirement already satisfied: threadpoolctl>=2.0.0 in /usr/local/lib/python3.10/dist-packages (from scikit-learn->shap) (3.5.0)\n",
            "Requirement already satisfied: six>=1.5 in /usr/local/lib/python3.10/dist-packages (from python-dateutil>=2.8.2->pandas->shap) (1.16.0)\n",
            "Downloading shap-0.46.0-cp310-cp310-manylinux_2_12_x86_64.manylinux2010_x86_64.manylinux_2_17_x86_64.manylinux2014_x86_64.whl (540 kB)\n",
            "\u001b[2K   \u001b[90m━━━━━━━━━━━━━━━━━━━━━━━━━━━━━━━━━━━━━━━━\u001b[0m \u001b[32m540.1/540.1 kB\u001b[0m \u001b[31m8.6 MB/s\u001b[0m eta \u001b[36m0:00:00\u001b[0m\n",
            "\u001b[?25hDownloading slicer-0.0.8-py3-none-any.whl (15 kB)\n",
            "Installing collected packages: slicer, shap\n",
            "Successfully installed shap-0.46.0 slicer-0.0.8\n"
          ]
        }
      ]
    },
    {
      "cell_type": "code",
      "source": [
        "#Shap evlauation of feature improtance\n",
        "import shap\n",
        "\n",
        "# Use SHAP to explain feature importances\n",
        "explainer = shap.Explainer(model, X_train)\n",
        "shap_values = explainer(X_test)\n",
        "\n",
        "# Summarize the feature importance values\n",
        "shap.summary_plot(shap_values, X_test, feature_names=X.columns)\n",
        "shap.summary_plot(shap_values, X_test, feature_names=X.columns, plot_type=\"bar\")"
      ],
      "metadata": {
        "id": "jwq-1tgmHqSr"
      },
      "execution_count": null,
      "outputs": []
    }
  ]
}